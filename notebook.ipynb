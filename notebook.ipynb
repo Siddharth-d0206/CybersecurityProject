{
 "cells": [
  {
   "metadata": {
    "ExecuteTime": {
     "end_time": "2025-07-22T00:01:09.717803Z",
     "start_time": "2025-07-21T23:54:20.395796Z"
    }
   },
   "cell_type": "code",
   "source": [
    "import pandas as pd\n",
    "from sklearn.model_selection import train_test_split\n",
    "from sklearn.preprocessing import StandardScaler, OneHotEncoder\n",
    "from sklearn.compose import ColumnTransformer\n",
    "from sklearn.pipeline import Pipeline\n",
    "from sklearn.ensemble import RandomForestClassifier\n",
    "from sklearn.metrics import classification_report, confusion_matrix\n",
    "import joblib\n",
    "\n",
    "# Load data\n",
    "train_df = pd.read_csv(r\"C:\\Users\\anish\\Downloads\\UNSW_NB15_training-set.csv\")\n",
    "test_df = pd.read_csv(r\"C:\\Users\\anish\\Downloads\\UNSW_NB15_testing-set.csv\")\n",
    "\n",
    "# Drop irrelevant columns\n",
    "drop_cols = ['id', 'attack_cat']\n",
    "train_df = train_df.drop(columns=drop_cols)\n",
    "test_df = test_df.drop(columns=drop_cols)\n",
    "\n",
    "# Features and target\n",
    "X_train = train_df.drop(\"label\", axis=1)\n",
    "y_train = train_df[\"label\"]\n",
    "\n",
    "X_test = test_df.drop(\"label\", axis=1)\n",
    "y_test = test_df[\"label\"]\n",
    "\n",
    "# Identify categorical and numerical columns\n",
    "categorical_cols = X_train.select_dtypes(include=[\"object\"]).columns.tolist()\n",
    "numerical_cols = X_train.select_dtypes(include=[\"int64\", \"float64\"]).columns.tolist()\n",
    "\n",
    "# Preprocessing pipeline\n",
    "preprocessor = ColumnTransformer(\n",
    "    transformers=[\n",
    "        (\"num\", StandardScaler(), numerical_cols),\n",
    "        (\"cat\", OneHotEncoder(handle_unknown=\"ignore\"), categorical_cols)\n",
    "    ]\n",
    ")\n",
    "\n",
    "# Full pipeline: preprocessing + classifier\n",
    "clf_pipeline = Pipeline(steps=[\n",
    "    (\"preprocessor\", preprocessor),\n",
    "    (\"classifier\", RandomForestClassifier(n_estimators=100, random_state=42))\n",
    "])\n",
    "\n",
    "# Train model\n",
    "clf_pipeline.fit(X_train, y_train)\n",
    "\n",
    "# Evaluate\n",
    "y_pred = clf_pipeline.predict(X_test)\n",
    "\n",
    "print(\"Confusion Matrix:\")\n",
    "print(confusion_matrix(y_test, y_pred))\n",
    "\n",
    "print(\"\\nClassification Report:\")\n",
    "print(classification_report(y_test, y_pred))\n",
    "\n",
    "joblib.dump(clf_pipeline, 'networkAnalyser.pkl')\n"
   ],
   "id": "fbc121e30a2defb3",
   "outputs": [
    {
     "name": "stdout",
     "output_type": "stream",
     "text": [
      "Confusion Matrix:\n",
      "[[27045  9955]\n",
      " [  660 44672]]\n",
      "\n",
      "Classification Report:\n",
      "              precision    recall  f1-score   support\n",
      "\n",
      "           0       0.98      0.73      0.84     37000\n",
      "           1       0.82      0.99      0.89     45332\n",
      "\n",
      "    accuracy                           0.87     82332\n",
      "   macro avg       0.90      0.86      0.86     82332\n",
      "weighted avg       0.89      0.87      0.87     82332\n",
      "\n"
     ]
    },
    {
     "data": {
      "text/plain": [
       "['networkAnalyser.pkl']"
      ]
     },
     "execution_count": 3,
     "metadata": {},
     "output_type": "execute_result"
    }
   ],
   "execution_count": 3
  }
 ],
 "metadata": {
  "kernelspec": {
   "display_name": "Python 3",
   "language": "python",
   "name": "python3"
  },
  "language_info": {
   "codemirror_mode": {
    "name": "ipython",
    "version": 2
   },
   "file_extension": ".py",
   "mimetype": "text/x-python",
   "name": "python",
   "nbconvert_exporter": "python",
   "pygments_lexer": "ipython2",
   "version": "2.7.6"
  }
 },
 "nbformat": 4,
 "nbformat_minor": 5
}
